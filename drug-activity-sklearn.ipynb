{
 "cells": [
  {
   "cell_type": "markdown",
   "metadata": {},
   "source": [
    "# Drug Activity Challenge"
   ]
  },
  {
   "cell_type": "code",
   "execution_count": 1,
   "metadata": {},
   "outputs": [],
   "source": [
    "import pandas as pd\n",
    "import numpy as np\n",
    "import matplotlib.pyplot as plt\n",
    "\n",
    "import rdkit\n",
    "from rdkit import Chem\n",
    "from rdkit.Chem import AllChem, Draw\n",
    "\n",
    "from sklearn.ensemble import RandomForestClassifier\n",
    "from sklearn.svm import SVR\n",
    "from sklearn.ensemble import AdaBoostClassifier\n",
    "from sklearn.ensemble import BaggingRegressor\n",
    "from sklearn.model_selection import train_test_split, GridSearchCV\n",
    "from sklearn.metrics import roc_auc_score\n",
    "\n",
    "from imblearn.over_sampling import ADASYN"
   ]
  },
  {
   "cell_type": "markdown",
   "metadata": {},
   "source": [
    "## Data inspection"
   ]
  },
  {
   "cell_type": "markdown",
   "metadata": {},
   "source": [
    "### Training data"
   ]
  },
  {
   "cell_type": "code",
   "execution_count": 2,
   "metadata": {},
   "outputs": [
    {
     "data": {
      "text/html": [
       "<div>\n",
       "<style scoped>\n",
       "    .dataframe tbody tr th:only-of-type {\n",
       "        vertical-align: middle;\n",
       "    }\n",
       "\n",
       "    .dataframe tbody tr th {\n",
       "        vertical-align: top;\n",
       "    }\n",
       "\n",
       "    .dataframe thead th {\n",
       "        text-align: right;\n",
       "    }\n",
       "</style>\n",
       "<table border=\"1\" class=\"dataframe\">\n",
       "  <thead>\n",
       "    <tr style=\"text-align: right;\">\n",
       "      <th></th>\n",
       "      <th>smiles</th>\n",
       "      <th>task1</th>\n",
       "      <th>task2</th>\n",
       "      <th>task3</th>\n",
       "      <th>task4</th>\n",
       "      <th>task5</th>\n",
       "      <th>task6</th>\n",
       "      <th>task7</th>\n",
       "      <th>task8</th>\n",
       "      <th>task9</th>\n",
       "      <th>task10</th>\n",
       "      <th>task11</th>\n",
       "    </tr>\n",
       "  </thead>\n",
       "  <tbody>\n",
       "    <tr>\n",
       "      <th>0</th>\n",
       "      <td>CC1=NN(c2ccc(C)c(C)c2)C(=O)C1N=Nc1cccc(-c2cccc...</td>\n",
       "      <td>0</td>\n",
       "      <td>0</td>\n",
       "      <td>0</td>\n",
       "      <td>0</td>\n",
       "      <td>0</td>\n",
       "      <td>0</td>\n",
       "      <td>0</td>\n",
       "      <td>0</td>\n",
       "      <td>0</td>\n",
       "      <td>0</td>\n",
       "      <td>0</td>\n",
       "    </tr>\n",
       "    <tr>\n",
       "      <th>1</th>\n",
       "      <td>CCOP(=S)(OCC)Oc1ccc(S(C)=O)cc1</td>\n",
       "      <td>0</td>\n",
       "      <td>0</td>\n",
       "      <td>0</td>\n",
       "      <td>0</td>\n",
       "      <td>0</td>\n",
       "      <td>0</td>\n",
       "      <td>0</td>\n",
       "      <td>0</td>\n",
       "      <td>-1</td>\n",
       "      <td>-1</td>\n",
       "      <td>0</td>\n",
       "    </tr>\n",
       "    <tr>\n",
       "      <th>2</th>\n",
       "      <td>CN(c1ccccc1CN=c1[nH]c(Nc2ccc3c(c2)CC(=O)N3)ncc...</td>\n",
       "      <td>0</td>\n",
       "      <td>0</td>\n",
       "      <td>0</td>\n",
       "      <td>0</td>\n",
       "      <td>0</td>\n",
       "      <td>0</td>\n",
       "      <td>0</td>\n",
       "      <td>-1</td>\n",
       "      <td>0</td>\n",
       "      <td>0</td>\n",
       "      <td>0</td>\n",
       "    </tr>\n",
       "    <tr>\n",
       "      <th>3</th>\n",
       "      <td>CC#CC1(O)CCC2C3CCC4=CC(=O)CCC4=C3C(c3ccc(N(C)C...</td>\n",
       "      <td>0</td>\n",
       "      <td>0</td>\n",
       "      <td>0</td>\n",
       "      <td>0</td>\n",
       "      <td>0</td>\n",
       "      <td>0</td>\n",
       "      <td>0</td>\n",
       "      <td>0</td>\n",
       "      <td>1</td>\n",
       "      <td>1</td>\n",
       "      <td>1</td>\n",
       "    </tr>\n",
       "    <tr>\n",
       "      <th>4</th>\n",
       "      <td>O=C(O)C1(C(O)=Nc2ccc(Cl)cc2Cl)CC1</td>\n",
       "      <td>0</td>\n",
       "      <td>0</td>\n",
       "      <td>0</td>\n",
       "      <td>0</td>\n",
       "      <td>0</td>\n",
       "      <td>0</td>\n",
       "      <td>0</td>\n",
       "      <td>0</td>\n",
       "      <td>0</td>\n",
       "      <td>1</td>\n",
       "      <td>0</td>\n",
       "    </tr>\n",
       "    <tr>\n",
       "      <th>...</th>\n",
       "      <td>...</td>\n",
       "      <td>...</td>\n",
       "      <td>...</td>\n",
       "      <td>...</td>\n",
       "      <td>...</td>\n",
       "      <td>...</td>\n",
       "      <td>...</td>\n",
       "      <td>...</td>\n",
       "      <td>...</td>\n",
       "      <td>...</td>\n",
       "      <td>...</td>\n",
       "      <td>...</td>\n",
       "    </tr>\n",
       "    <tr>\n",
       "      <th>11995</th>\n",
       "      <td>C[C@]12CC(=O)C3C(CCC4=CC(=O)CC[C@@]43C)C1CC[C@...</td>\n",
       "      <td>0</td>\n",
       "      <td>0</td>\n",
       "      <td>0</td>\n",
       "      <td>0</td>\n",
       "      <td>0</td>\n",
       "      <td>0</td>\n",
       "      <td>0</td>\n",
       "      <td>-1</td>\n",
       "      <td>0</td>\n",
       "      <td>0</td>\n",
       "      <td>0</td>\n",
       "    </tr>\n",
       "    <tr>\n",
       "      <th>11996</th>\n",
       "      <td>CC(=Cc1ccc(C(=O)O)cc1)c1ccc2c(c1)C(C)(C)CCC2(C)C</td>\n",
       "      <td>0</td>\n",
       "      <td>0</td>\n",
       "      <td>0</td>\n",
       "      <td>0</td>\n",
       "      <td>0</td>\n",
       "      <td>0</td>\n",
       "      <td>0</td>\n",
       "      <td>0</td>\n",
       "      <td>0</td>\n",
       "      <td>0</td>\n",
       "      <td>0</td>\n",
       "    </tr>\n",
       "    <tr>\n",
       "      <th>11997</th>\n",
       "      <td>OC[C@H]1NC[C@@H](O)[C@@H](O)[C@@H]1O</td>\n",
       "      <td>0</td>\n",
       "      <td>0</td>\n",
       "      <td>0</td>\n",
       "      <td>0</td>\n",
       "      <td>0</td>\n",
       "      <td>0</td>\n",
       "      <td>0</td>\n",
       "      <td>-1</td>\n",
       "      <td>0</td>\n",
       "      <td>0</td>\n",
       "      <td>0</td>\n",
       "    </tr>\n",
       "    <tr>\n",
       "      <th>11998</th>\n",
       "      <td>CN(C)CCCN1c2ccccc2C(C)(C)c2ccccc21</td>\n",
       "      <td>0</td>\n",
       "      <td>0</td>\n",
       "      <td>1</td>\n",
       "      <td>0</td>\n",
       "      <td>0</td>\n",
       "      <td>0</td>\n",
       "      <td>0</td>\n",
       "      <td>0</td>\n",
       "      <td>1</td>\n",
       "      <td>-1</td>\n",
       "      <td>0</td>\n",
       "    </tr>\n",
       "    <tr>\n",
       "      <th>11999</th>\n",
       "      <td>Nc1ccc(Cl)cc1C(=O)c1ccccc1F</td>\n",
       "      <td>0</td>\n",
       "      <td>0</td>\n",
       "      <td>0</td>\n",
       "      <td>0</td>\n",
       "      <td>0</td>\n",
       "      <td>0</td>\n",
       "      <td>0</td>\n",
       "      <td>0</td>\n",
       "      <td>0</td>\n",
       "      <td>0</td>\n",
       "      <td>0</td>\n",
       "    </tr>\n",
       "  </tbody>\n",
       "</table>\n",
       "<p>12000 rows × 12 columns</p>\n",
       "</div>"
      ],
      "text/plain": [
       "                                                  smiles  task1  task2  task3  \\\n",
       "0      CC1=NN(c2ccc(C)c(C)c2)C(=O)C1N=Nc1cccc(-c2cccc...      0      0      0   \n",
       "1                         CCOP(=S)(OCC)Oc1ccc(S(C)=O)cc1      0      0      0   \n",
       "2      CN(c1ccccc1CN=c1[nH]c(Nc2ccc3c(c2)CC(=O)N3)ncc...      0      0      0   \n",
       "3      CC#CC1(O)CCC2C3CCC4=CC(=O)CCC4=C3C(c3ccc(N(C)C...      0      0      0   \n",
       "4                      O=C(O)C1(C(O)=Nc2ccc(Cl)cc2Cl)CC1      0      0      0   \n",
       "...                                                  ...    ...    ...    ...   \n",
       "11995  C[C@]12CC(=O)C3C(CCC4=CC(=O)CC[C@@]43C)C1CC[C@...      0      0      0   \n",
       "11996   CC(=Cc1ccc(C(=O)O)cc1)c1ccc2c(c1)C(C)(C)CCC2(C)C      0      0      0   \n",
       "11997               OC[C@H]1NC[C@@H](O)[C@@H](O)[C@@H]1O      0      0      0   \n",
       "11998                 CN(C)CCCN1c2ccccc2C(C)(C)c2ccccc21      0      0      1   \n",
       "11999                        Nc1ccc(Cl)cc1C(=O)c1ccccc1F      0      0      0   \n",
       "\n",
       "       task4  task5  task6  task7  task8  task9  task10  task11  \n",
       "0          0      0      0      0      0      0       0       0  \n",
       "1          0      0      0      0      0     -1      -1       0  \n",
       "2          0      0      0      0     -1      0       0       0  \n",
       "3          0      0      0      0      0      1       1       1  \n",
       "4          0      0      0      0      0      0       1       0  \n",
       "...      ...    ...    ...    ...    ...    ...     ...     ...  \n",
       "11995      0      0      0      0     -1      0       0       0  \n",
       "11996      0      0      0      0      0      0       0       0  \n",
       "11997      0      0      0      0     -1      0       0       0  \n",
       "11998      0      0      0      0      0      1      -1       0  \n",
       "11999      0      0      0      0      0      0       0       0  \n",
       "\n",
       "[12000 rows x 12 columns]"
      ]
     },
     "execution_count": 2,
     "metadata": {},
     "output_type": "execute_result"
    }
   ],
   "source": [
    "data_train = pd.read_csv('data_train.csv', index_col=0)\n",
    "data_train"
   ]
  },
  {
   "cell_type": "code",
   "execution_count": 3,
   "metadata": {},
   "outputs": [
    {
     "data": {
      "image/png": "[encoded data removed]",
      "text/plain": [
       "<Figure size 432x288 with 1 Axes>"
      ]
     },
     "metadata": {
      "needs_background": "light"
     },
     "output_type": "display_data"
    },
    {
     "data": {
      "image/png": "[encoded data removed]",
      "text/plain": [
       "<Figure size 432x288 with 1 Axes>"
      ]
     },
     "metadata": {
      "needs_background": "light"
     },
     "output_type": "display_data"
    },
    {
     "data": {
      "image/png": "[encoded data removed]",
      "text/plain": [
       "<Figure size 432x288 with 1 Axes>"
      ]
     },
     "metadata": {
      "needs_background": "light"
     },
     "output_type": "display_data"
    },
    {
     "data": {
      "image/png": "[encoded data removed]",
      "text/plain": [
       "<Figure size 432x288 with 1 Axes>"
      ]
     },
     "metadata": {
      "needs_background": "light"
     },
     "output_type": "display_data"
    },
    {
     "data": {
      "image/png": "[encoded data removed]",
      "text/plain": [
       "<Figure size 432x288 with 1 Axes>"
      ]
     },
     "metadata": {
      "needs_background": "light"
     },
     "output_type": "display_data"
    },
    {
     "data": {
      "image/png": "[encoded data removed]",
      "text/plain": [
       "<Figure size 432x288 with 1 Axes>"
      ]
     },
     "metadata": {
      "needs_background": "light"
     },
     "output_type": "display_data"
    },
    {
     "data": {
      "image/png": "[encoded data removed]",
      "text/plain": [
       "<Figure size 432x288 with 1 Axes>"
      ]
     },
     "metadata": {
      "needs_background": "light"
     },
     "output_type": "display_data"
    },
    {
     "data": {
      "image/png": "[encoded data removed]",
      "text/plain": [
       "<Figure size 432x288 with 1 Axes>"
      ]
     },
     "metadata": {
      "needs_background": "light"
     },
     "output_type": "display_data"
    },
    {
     "data": {
      "image/png": "[encoded data removed]",
      "text/plain": [
       "<Figure size 432x288 with 1 Axes>"
      ]
     },
     "metadata": {
      "needs_background": "light"
     },
     "output_type": "display_data"
    },
    {
     "data": {
      "image/png": "[encoded data removed]",
      "text/plain": [
       "<Figure size 432x288 with 1 Axes>"
      ]
     },
     "metadata": {
      "needs_background": "light"
     },
     "output_type": "display_data"
    },
    {
     "data": {
      "image/png": "[encoded data removed]",
      "text/plain": [
       "<Figure size 432x288 with 1 Axes>"
      ]
     },
     "metadata": {
      "needs_background": "light"
     },
     "output_type": "display_data"
    }
   ],
   "source": [
    "# Visualisation of data using histograms\n",
    "for i in range(1, 12):\n",
    "    plt.hist(data_train['task' + str(i)], [-1.5, -0.5, 0.5, 1.5])\n",
    "    plt.title('Task ' + str(i))\n",
    "    plt.show()"
   ]
  },
  {
   "cell_type": "markdown",
   "metadata": {},
   "source": [
    "### Test data"
   ]
  },
  {
   "cell_type": "code",
   "execution_count": 4,
   "metadata": {},
   "outputs": [
    {
     "data": {
      "text/html": [
       "<div>\n",
       "<style scoped>\n",
       "    .dataframe tbody tr th:only-of-type {\n",
       "        vertical-align: middle;\n",
       "    }\n",
       "\n",
       "    .dataframe tbody tr th {\n",
       "        vertical-align: top;\n",
       "    }\n",
       "\n",
       "    .dataframe thead th {\n",
       "        text-align: right;\n",
       "    }\n",
       "</style>\n",
       "<table border=\"1\" class=\"dataframe\">\n",
       "  <thead>\n",
       "    <tr style=\"text-align: right;\">\n",
       "      <th></th>\n",
       "      <th>Unnamed: 0</th>\n",
       "      <th>smiles</th>\n",
       "    </tr>\n",
       "  </thead>\n",
       "  <tbody>\n",
       "    <tr>\n",
       "      <th>0</th>\n",
       "      <td>0</td>\n",
       "      <td>COc1cccc(C=O)c1</td>\n",
       "    </tr>\n",
       "    <tr>\n",
       "      <th>1</th>\n",
       "      <td>1</td>\n",
       "      <td>N#CC(O)c1ccccc1</td>\n",
       "    </tr>\n",
       "    <tr>\n",
       "      <th>2</th>\n",
       "      <td>2</td>\n",
       "      <td>Cl.Cl.OCCN1CCN(CCC=C2c3ccccc3Sc3ccc(Cl)cc32)CC1</td>\n",
       "    </tr>\n",
       "    <tr>\n",
       "      <th>3</th>\n",
       "      <td>3</td>\n",
       "      <td>CCN1CCN(c2ccc(C(C)(C)N=C(O)c3cc4[nH]c5ccccc5c(...</td>\n",
       "    </tr>\n",
       "    <tr>\n",
       "      <th>4</th>\n",
       "      <td>4</td>\n",
       "      <td>CCCc1ccc(O)c(OC)c1</td>\n",
       "    </tr>\n",
       "    <tr>\n",
       "      <th>...</th>\n",
       "      <td>...</td>\n",
       "      <td>...</td>\n",
       "    </tr>\n",
       "    <tr>\n",
       "      <th>5891</th>\n",
       "      <td>5891</td>\n",
       "      <td>Cc1cc(C)c(/C=C2\\C(O)=Nc3ccccc32)[nH]1</td>\n",
       "    </tr>\n",
       "    <tr>\n",
       "      <th>5892</th>\n",
       "      <td>5892</td>\n",
       "      <td>CCCCCCOCCO</td>\n",
       "    </tr>\n",
       "    <tr>\n",
       "      <th>5893</th>\n",
       "      <td>5893</td>\n",
       "      <td>CC(c1ccc(O)cc1)c1ccc(O)cc1</td>\n",
       "    </tr>\n",
       "    <tr>\n",
       "      <th>5894</th>\n",
       "      <td>5894</td>\n",
       "      <td>CCC(C)(c1ccc(O)cc1)c1ccc(O)cc1</td>\n",
       "    </tr>\n",
       "    <tr>\n",
       "      <th>5895</th>\n",
       "      <td>5895</td>\n",
       "      <td>COCc1cnc(C2=NC(=O)C(C)(C(C)C)N2)c(C(=O)O)c1</td>\n",
       "    </tr>\n",
       "  </tbody>\n",
       "</table>\n",
       "<p>5896 rows × 2 columns</p>\n",
       "</div>"
      ],
      "text/plain": [
       "      Unnamed: 0                                             smiles\n",
       "0              0                                    COc1cccc(C=O)c1\n",
       "1              1                                    N#CC(O)c1ccccc1\n",
       "2              2    Cl.Cl.OCCN1CCN(CCC=C2c3ccccc3Sc3ccc(Cl)cc32)CC1\n",
       "3              3  CCN1CCN(c2ccc(C(C)(C)N=C(O)c3cc4[nH]c5ccccc5c(...\n",
       "4              4                                 CCCc1ccc(O)c(OC)c1\n",
       "...          ...                                                ...\n",
       "5891        5891              Cc1cc(C)c(/C=C2\\C(O)=Nc3ccccc32)[nH]1\n",
       "5892        5892                                         CCCCCCOCCO\n",
       "5893        5893                         CC(c1ccc(O)cc1)c1ccc(O)cc1\n",
       "5894        5894                     CCC(C)(c1ccc(O)cc1)c1ccc(O)cc1\n",
       "5895        5895        COCc1cnc(C2=NC(=O)C(C)(C(C)C)N2)c(C(=O)O)c1\n",
       "\n",
       "[5896 rows x 2 columns]"
      ]
     },
     "execution_count": 4,
     "metadata": {},
     "output_type": "execute_result"
    }
   ],
   "source": [
    "data_test = pd.read_csv('smiles_test.csv')\n",
    "data_test"
   ]
  },
  {
   "cell_type": "markdown",
   "metadata": {},
   "source": [
    "## Preprocessing"
   ]
  },
  {
   "cell_type": "markdown",
   "metadata": {},
   "source": [
    "### Smiles to Morgan fingerprints"
   ]
  },
  {
   "cell_type": "code",
   "execution_count": 5,
   "metadata": {},
   "outputs": [],
   "source": [
    "# Turn molecules in smiles format into Morgan fingerprints\n",
    "def smiles_to_morgan(data: np.array, fp_length=1024):\n",
    "    desc_mtx = np.zeros((len(data), fp_length)) * np.nan\n",
    "\n",
    "    # Get Morgan fingerprints\n",
    "    for i, smiles in enumerate(data):\n",
    "        mol = Chem.MolFromSmiles(smiles)\n",
    "        desc_mtx[i] = AllChem.GetMorganFingerprintAsBitVect(mol, radius=3, nBits=fp_length)\n",
    "        \n",
    "    return desc_mtx"
   ]
  },
  {
   "cell_type": "code",
   "execution_count": 9,
   "metadata": {},
   "outputs": [
    {
     "name": "stderr",
     "output_type": "stream",
     "text": [
      "RDKit WARNING: [22:45:35] WARNING: not removing hydrogen atom without neighbors\n",
      "RDKit WARNING: [22:45:35] WARNING: not removing hydrogen atom without neighbors\n",
      "RDKit WARNING: [22:45:35] WARNING: not removing hydrogen atom without neighbors\n",
      "RDKit WARNING: [22:45:35] WARNING: not removing hydrogen atom without neighbors\n",
      "RDKit WARNING: [22:45:47] WARNING: not removing hydrogen atom without neighbors\n",
      "RDKit WARNING: [22:45:47] WARNING: not removing hydrogen atom without neighbors\n",
      "RDKit WARNING: [22:45:48] WARNING: not removing hydrogen atom without neighbors\n",
      "RDKit WARNING: [22:45:48] WARNING: not removing hydrogen atom without neighbors\n"
     ]
    },
    {
     "name": "stdout",
     "output_type": "stream",
     "text": [
      "(12000, 2048) (5896, 2048)\n"
     ]
    }
   ],
   "source": [
    "# Define train and test sets by getting Morgan fingerprints\n",
    "X = smiles_to_morgan(np.array(data_train['smiles']), fp_length=2048)\n",
    "X_test = smiles_to_morgan(np.array(data_test['smiles']), fp_length=2048)\n",
    "\n",
    "print(X.shape, X_test.shape)"
   ]
  },
  {
   "cell_type": "code",
   "execution_count": 6,
   "metadata": {},
   "outputs": [
    {
     "data": {
      "text/html": [
       "<div>\n",
       "<style scoped>\n",
       "    .dataframe tbody tr th:only-of-type {\n",
       "        vertical-align: middle;\n",
       "    }\n",
       "\n",
       "    .dataframe tbody tr th {\n",
       "        vertical-align: top;\n",
       "    }\n",
       "\n",
       "    .dataframe thead th {\n",
       "        text-align: right;\n",
       "    }\n",
       "</style>\n",
       "<table border=\"1\" class=\"dataframe\">\n",
       "  <thead>\n",
       "    <tr style=\"text-align: right;\">\n",
       "      <th></th>\n",
       "      <th>task1</th>\n",
       "      <th>task2</th>\n",
       "      <th>task3</th>\n",
       "      <th>task4</th>\n",
       "      <th>task5</th>\n",
       "      <th>task6</th>\n",
       "      <th>task7</th>\n",
       "      <th>task8</th>\n",
       "      <th>task9</th>\n",
       "      <th>task10</th>\n",
       "      <th>task11</th>\n",
       "    </tr>\n",
       "  </thead>\n",
       "  <tbody>\n",
       "    <tr>\n",
       "      <th>0</th>\n",
       "      <td>0</td>\n",
       "      <td>0</td>\n",
       "      <td>0</td>\n",
       "      <td>0</td>\n",
       "      <td>0</td>\n",
       "      <td>0</td>\n",
       "      <td>0</td>\n",
       "      <td>0</td>\n",
       "      <td>0</td>\n",
       "      <td>0</td>\n",
       "      <td>0</td>\n",
       "    </tr>\n",
       "    <tr>\n",
       "      <th>1</th>\n",
       "      <td>0</td>\n",
       "      <td>0</td>\n",
       "      <td>0</td>\n",
       "      <td>0</td>\n",
       "      <td>0</td>\n",
       "      <td>0</td>\n",
       "      <td>0</td>\n",
       "      <td>0</td>\n",
       "      <td>-1</td>\n",
       "      <td>-1</td>\n",
       "      <td>0</td>\n",
       "    </tr>\n",
       "    <tr>\n",
       "      <th>2</th>\n",
       "      <td>0</td>\n",
       "      <td>0</td>\n",
       "      <td>0</td>\n",
       "      <td>0</td>\n",
       "      <td>0</td>\n",
       "      <td>0</td>\n",
       "      <td>0</td>\n",
       "      <td>-1</td>\n",
       "      <td>0</td>\n",
       "      <td>0</td>\n",
       "      <td>0</td>\n",
       "    </tr>\n",
       "    <tr>\n",
       "      <th>3</th>\n",
       "      <td>0</td>\n",
       "      <td>0</td>\n",
       "      <td>0</td>\n",
       "      <td>0</td>\n",
       "      <td>0</td>\n",
       "      <td>0</td>\n",
       "      <td>0</td>\n",
       "      <td>0</td>\n",
       "      <td>1</td>\n",
       "      <td>1</td>\n",
       "      <td>1</td>\n",
       "    </tr>\n",
       "    <tr>\n",
       "      <th>4</th>\n",
       "      <td>0</td>\n",
       "      <td>0</td>\n",
       "      <td>0</td>\n",
       "      <td>0</td>\n",
       "      <td>0</td>\n",
       "      <td>0</td>\n",
       "      <td>0</td>\n",
       "      <td>0</td>\n",
       "      <td>0</td>\n",
       "      <td>1</td>\n",
       "      <td>0</td>\n",
       "    </tr>\n",
       "    <tr>\n",
       "      <th>...</th>\n",
       "      <td>...</td>\n",
       "      <td>...</td>\n",
       "      <td>...</td>\n",
       "      <td>...</td>\n",
       "      <td>...</td>\n",
       "      <td>...</td>\n",
       "      <td>...</td>\n",
       "      <td>...</td>\n",
       "      <td>...</td>\n",
       "      <td>...</td>\n",
       "      <td>...</td>\n",
       "    </tr>\n",
       "    <tr>\n",
       "      <th>11995</th>\n",
       "      <td>0</td>\n",
       "      <td>0</td>\n",
       "      <td>0</td>\n",
       "      <td>0</td>\n",
       "      <td>0</td>\n",
       "      <td>0</td>\n",
       "      <td>0</td>\n",
       "      <td>-1</td>\n",
       "      <td>0</td>\n",
       "      <td>0</td>\n",
       "      <td>0</td>\n",
       "    </tr>\n",
       "    <tr>\n",
       "      <th>11996</th>\n",
       "      <td>0</td>\n",
       "      <td>0</td>\n",
       "      <td>0</td>\n",
       "      <td>0</td>\n",
       "      <td>0</td>\n",
       "      <td>0</td>\n",
       "      <td>0</td>\n",
       "      <td>0</td>\n",
       "      <td>0</td>\n",
       "      <td>0</td>\n",
       "      <td>0</td>\n",
       "    </tr>\n",
       "    <tr>\n",
       "      <th>11997</th>\n",
       "      <td>0</td>\n",
       "      <td>0</td>\n",
       "      <td>0</td>\n",
       "      <td>0</td>\n",
       "      <td>0</td>\n",
       "      <td>0</td>\n",
       "      <td>0</td>\n",
       "      <td>-1</td>\n",
       "      <td>0</td>\n",
       "      <td>0</td>\n",
       "      <td>0</td>\n",
       "    </tr>\n",
       "    <tr>\n",
       "      <th>11998</th>\n",
       "      <td>0</td>\n",
       "      <td>0</td>\n",
       "      <td>1</td>\n",
       "      <td>0</td>\n",
       "      <td>0</td>\n",
       "      <td>0</td>\n",
       "      <td>0</td>\n",
       "      <td>0</td>\n",
       "      <td>1</td>\n",
       "      <td>-1</td>\n",
       "      <td>0</td>\n",
       "    </tr>\n",
       "    <tr>\n",
       "      <th>11999</th>\n",
       "      <td>0</td>\n",
       "      <td>0</td>\n",
       "      <td>0</td>\n",
       "      <td>0</td>\n",
       "      <td>0</td>\n",
       "      <td>0</td>\n",
       "      <td>0</td>\n",
       "      <td>0</td>\n",
       "      <td>0</td>\n",
       "      <td>0</td>\n",
       "      <td>0</td>\n",
       "    </tr>\n",
       "  </tbody>\n",
       "</table>\n",
       "<p>12000 rows × 11 columns</p>\n",
       "</div>"
      ],
      "text/plain": [
       "       task1  task2  task3  task4  task5  task6  task7  task8  task9  task10  \\\n",
       "0          0      0      0      0      0      0      0      0      0       0   \n",
       "1          0      0      0      0      0      0      0      0     -1      -1   \n",
       "2          0      0      0      0      0      0      0     -1      0       0   \n",
       "3          0      0      0      0      0      0      0      0      1       1   \n",
       "4          0      0      0      0      0      0      0      0      0       1   \n",
       "...      ...    ...    ...    ...    ...    ...    ...    ...    ...     ...   \n",
       "11995      0      0      0      0      0      0      0     -1      0       0   \n",
       "11996      0      0      0      0      0      0      0      0      0       0   \n",
       "11997      0      0      0      0      0      0      0     -1      0       0   \n",
       "11998      0      0      1      0      0      0      0      0      1      -1   \n",
       "11999      0      0      0      0      0      0      0      0      0       0   \n",
       "\n",
       "       task11  \n",
       "0           0  \n",
       "1           0  \n",
       "2           0  \n",
       "3           1  \n",
       "4           0  \n",
       "...       ...  \n",
       "11995       0  \n",
       "11996       0  \n",
       "11997       0  \n",
       "11998       0  \n",
       "11999       0  \n",
       "\n",
       "[12000 rows x 11 columns]"
      ]
     },
     "execution_count": 6,
     "metadata": {},
     "output_type": "execute_result"
    }
   ],
   "source": [
    "# Create task-only dataframe\n",
    "tasks = data_train.drop('smiles', axis=1)\n",
    "tasks"
   ]
  },
  {
   "cell_type": "code",
   "execution_count": 7,
   "metadata": {},
   "outputs": [
    {
     "data": {
      "text/plain": [
       "[array([0, 0, 0, ..., 0, 0, 0]),\n",
       " array([0, 0, 0, ..., 0, 0, 0]),\n",
       " array([0, 0, 0, ..., 0, 1, 0]),\n",
       " array([0, 0, 0, ..., 0, 0, 0]),\n",
       " array([0, 0, 0, ..., 0, 0, 0]),\n",
       " array([0, 0, 0, ..., 0, 0, 0]),\n",
       " array([0, 0, 0, ..., 0, 0, 0]),\n",
       " array([ 0,  0, -1, ..., -1,  0,  0]),\n",
       " array([ 0, -1,  0, ...,  0,  1,  0]),\n",
       " array([ 0, -1,  0, ...,  0, -1,  0]),\n",
       " array([0, 0, 0, ..., 0, 0, 0])]"
      ]
     },
     "execution_count": 7,
     "metadata": {},
     "output_type": "execute_result"
    }
   ],
   "source": [
    "# Get labels from tasks dataframe\n",
    "y = [np.array(tasks[col]) for col in tasks]\n",
    "y"
   ]
  },
  {
   "cell_type": "code",
   "execution_count": 8,
   "metadata": {},
   "outputs": [
    {
     "data": {
      "text/plain": [
       "(array([   12,    18,    23, ..., 11962, 11980, 11991]),)"
      ]
     },
     "execution_count": 8,
     "metadata": {},
     "output_type": "execute_result"
    }
   ],
   "source": [
    "# Create filters to mask out tasks with 0-labels\n",
    "task_filters = [np.where(label!=0) for label in y]\n",
    "task_filters[0]"
   ]
  },
  {
   "cell_type": "markdown",
   "metadata": {},
   "source": [
    "## Support Vector Regression"
   ]
  },
  {
   "cell_type": "code",
   "execution_count": 15,
   "metadata": {},
   "outputs": [
    {
     "name": "stdout",
     "output_type": "stream",
     "text": [
      "ROC AUC score task 1: 0.5583333333333333\n",
      "ROC AUC score task 2: 0.937070938215103\n",
      "ROC AUC score task 3: 0.8970588235294118\n",
      "ROC AUC score task 4: 0.7296296296296296\n",
      "ROC AUC score task 5: 0.5341796875\n",
      "ROC AUC score task 6: 0.5831903945111492\n",
      "ROC AUC score task 7: 0.6494252873563218\n",
      "ROC AUC score task 8: 0.7402597402597403\n",
      "ROC AUC score task 9: 0.8414960446719404\n",
      "ROC AUC score task 10: 0.8788638262322472\n",
      "ROC AUC score task 11: 0.5145888594164456\n",
      "Mean ROC AUC score: 0.7149178695141202\n"
     ]
    }
   ],
   "source": [
    "seed = 42\n",
    "roc_auc_scores = []\n",
    "predictions_testset = {}\n",
    "param_grid = {\n",
    "    'C': [0.1, 1, 10],\n",
    "    'epsilon': [0.1, 1, 10]\n",
    "}\n",
    "\n",
    "for i, mask in enumerate(task_filters):\n",
    "    \n",
    "    # Train / Validation split\n",
    "    X_train, X_valid, y_train, y_valid = train_test_split(X[mask], y[i][mask], test_size=0.1, random_state=seed)\n",
    "    \n",
    "    # Resample training data\n",
    "    X_train, y_train = ADASYN().fit_resample(X_train, y_train)\n",
    "    \n",
    "    # Define and train model\n",
    "    clf = GridSearchCV(SVR(kernel='rbf'), param_grid, n_jobs=-1)\n",
    "    clf.fit(X_train, y_train)\n",
    "    \n",
    "    # Bagging regressor based on model\n",
    "    clf_bagg = BaggingRegressor(base_estimator=clf, n_estimators=10, n_jobs=-1, random_state=seed)\n",
    "    clf_bagg.fit(X_train, y_train)\n",
    "    \n",
    "    # Validation\n",
    "    y_hat_proba = clf_bagg.predict(X_valid)\n",
    "    roc_auc_scores.append(roc_auc_score(y_valid, y_hat_proba))\n",
    "    print('ROC AUC score task ' + str(i + 1 )+ ':', roc_auc_scores[i])\n",
    "    \n",
    "    # Test\n",
    "    predictions_testset['task' + str(i+1)] = clf.predict(X_test)\n",
    "\n",
    "# Print mean score\n",
    "print('Mean ROC AUC score:', np.mean(roc_auc_scores))\n",
    "          \n",
    "# Dump CSV file\n",
    "pd.DataFrame(predictions_testset).to_csv('submission_svr.csv')"
   ]
  },
  {
   "cell_type": "markdown",
   "metadata": {},
   "source": [
    "## AdaBoost"
   ]
  },
  {
   "cell_type": "code",
   "execution_count": 57,
   "metadata": {},
   "outputs": [
    {
     "name": "stdout",
     "output_type": "stream",
     "text": [
      "ROC AUC score task 1: 0.4947916666666667\n",
      "ROC AUC score task 2: 0.9033180778032036\n",
      "ROC AUC score task 3: 0.9016339869281046\n",
      "ROC AUC score task 4: 0.6907407407407407\n",
      "ROC AUC score task 5: 0.5048828125\n",
      "ROC AUC score task 6: 0.630360205831904\n",
      "ROC AUC score task 7: 0.5057471264367817\n",
      "ROC AUC score task 8: 0.6025592055003819\n",
      "ROC AUC score task 9: 0.8225628199162401\n",
      "ROC AUC score task 10: 0.8270296954507481\n",
      "ROC AUC score task 11: 0.5594606542882404\n",
      "Mean ROC AUC score: 0.6766442720057283\n"
     ]
    }
   ],
   "source": [
    "seed = 42\n",
    "roc_auc_scores = []\n",
    "predictions_testset = {}\n",
    "\n",
    "for i, mask in enumerate(task_filters):\n",
    "    \n",
    "    # Train / Validation split\n",
    "    X_train, X_valid, y_train, y_valid = train_test_split(X[mask], y[i][mask], test_size=0.1, random_state=seed)\n",
    "    \n",
    "    # Resa mple training data\n",
    "    X_train, y_train = ADASYN().fit_resample(X_train, y_train)\n",
    "    \n",
    "    # Define and train model\n",
    "    clf = AdaBoostClassifier(n_estimators=100)\n",
    "    clf.fit(X_train, y_train)\n",
    "    \n",
    "    # Bagging regressor based on model\n",
    "    clf_bagg = BaggingRegressor(base_estimator=clf, n_estimators=100, random_state=seed)\n",
    "    clf_bagg.fit(X_train, y_train)\n",
    "    \n",
    "    # Validation\n",
    "    y_hat_proba = clf_bagg.predict(X_valid)\n",
    "    roc_auc_scores.append(roc_auc_score(y_valid, y_hat_proba))\n",
    "    print('ROC AUC score task ' + str(i + 1 )+ ':', roc_auc_scores[i])\n",
    "    \n",
    "    # Test\n",
    "    predictions_testset['task' + str(i+1)] = clf.predict(X_test)\n",
    "\n",
    "# Print mean score\n",
    "print('Mean ROC AUC score:', np.mean(roc_auc_scores))\n",
    "          \n",
    "# Dump CSV file\n",
    "pd.DataFrame(predictions_testset).to_csv('submission_adaboost.csv')"
   ]
  },
  {
   "cell_type": "markdown",
   "metadata": {},
   "source": [
    "## Random Forest"
   ]
  },
  {
   "cell_type": "code",
   "execution_count": 11,
   "metadata": {},
   "outputs": [
    {
     "name": "stdout",
     "output_type": "stream",
     "text": [
      "ROC AUC score task 1: 0.4895833333333333\n",
      "ROC AUC score task 2: 0.9239130434782608\n",
      "ROC AUC score task 3: 0.8810457516339869\n",
      "ROC AUC score task 4: 0.6314814814814815\n",
      "ROC AUC score task 5: 0.5615234375\n",
      "ROC AUC score task 6: 0.5591766723842195\n",
      "ROC AUC score task 7: 0.6436781609195402\n",
      "ROC AUC score task 8: 0.5\n",
      "ROC AUC score task 9: 0.8016810144253141\n",
      "ROC AUC score task 10: 0.7243867243867244\n",
      "ROC AUC score task 11: 0.5652077807250221\n",
      "Mean ROC AUC score: 0.6619706727516257\n"
     ]
    }
   ],
   "source": [
    "seed = 42\n",
    "roc_auc_scores = []\n",
    "predictions_testset = {}\n",
    "\n",
    "for i, mask in enumerate(task_filters):\n",
    "    \n",
    "    # Train / Validation split\n",
    "    X_train, X_valid, y_train, y_valid = train_test_split(X[mask], y[i][mask], test_size=0.1, random_state=seed)\n",
    "    \n",
    "    # Resample training data\n",
    "    X_train, y_train = ADASYN().fit_resample(X_train, y_train)\n",
    "    \n",
    "    # Define and train model\n",
    "    clf = RandomForestClassifier(n_estimators=20, random_state=seed)\n",
    "    clf.fit(X_train, y_train)\n",
    "    \n",
    "    # Bagging regressor based on model\n",
    "    clf_bagg = BaggingRegressor(base_estimator=clf, n_estimators=100, n_jobs=-1, random_state=seed)\n",
    "    clf_bagg.fit(X_train, y_train)\n",
    "    \n",
    "    # Validation\n",
    "    y_hat_proba = clf_bagg.predict(X_valid)\n",
    "    roc_auc_scores.append(roc_auc_score(y_valid, y_hat_proba))\n",
    "    print('ROC AUC score task ' + str(i + 1 )+ ':', roc_auc_scores[i])\n",
    "    \n",
    "    # Test\n",
    "    predictions_testset['task' + str(i+1)] = clf.predict(X_test)\n",
    "\n",
    "# Print mean score\n",
    "print('Mean ROC AUC score:', np.mean(roc_auc_scores))\n",
    "          \n",
    "# Dump CSV file\n",
    "pd.DataFrame(predictions_testset).to_csv('submission_rf_bagg.csv')"
   ]
  }
 ],
 "metadata": {
  "kernelspec": {
   "display_name": "AILS",
   "language": "python",
   "name": "ails"
  },
  "language_info": {
   "codemirror_mode": {
    "name": "ipython",
    "version": 3
   },
   "file_extension": ".py",
   "mimetype": "text/x-python",
   "name": "python",
   "nbconvert_exporter": "python",
   "pygments_lexer": "ipython3",
   "version": "3.7.10"
  }
 },
 "nbformat": 4,
 "nbformat_minor": 4
}
